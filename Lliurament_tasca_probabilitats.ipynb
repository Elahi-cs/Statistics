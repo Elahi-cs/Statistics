{
 "cells": [
  {
   "cell_type": "code",
   "execution_count": 36,
   "id": "badb3db5",
   "metadata": {
    "ExecuteTime": {
     "end_time": "2021-05-04T16:25:26.257802Z",
     "start_time": "2021-05-04T16:25:26.251827Z"
    }
   },
   "outputs": [],
   "source": [
    "import numpy as np\n",
    "import pandas as pd\n",
    "import scipy.stats as stats\n",
    "\n",
    "import matplotlib.pyplot as plt\n",
    "import seaborn as sns"
   ]
  },
  {
   "cell_type": "markdown",
   "id": "33610858",
   "metadata": {},
   "source": [
    "# Exercici 1\n",
    "\n",
    "## Agafa un conjunt de dades de tema esportiu que t'agradi i selecciona un atribut del conjunt de dades. Calcula la moda, la mediana, la desviació estàndard i la mitjana aritmètica.\n",
    "\n",
    "Per a aquesta tasca farem servir [aquest dataset](https://www.kaggle.com/heesoo37/120-years-of-olympic-history-athletes-and-results) de 120 d'història dels Jocs Olímpics. "
   ]
  },
  {
   "cell_type": "code",
   "execution_count": 2,
   "id": "0f853a0e",
   "metadata": {
    "ExecuteTime": {
     "end_time": "2021-05-04T15:34:43.612910Z",
     "start_time": "2021-05-04T15:34:43.216916Z"
    }
   },
   "outputs": [],
   "source": [
    "df = pd.read_csv('athlete_events.csv')"
   ]
  },
  {
   "cell_type": "code",
   "execution_count": 3,
   "id": "70ad2a25",
   "metadata": {
    "ExecuteTime": {
     "end_time": "2021-05-04T15:34:43.644724Z",
     "start_time": "2021-05-04T15:34:43.613909Z"
    }
   },
   "outputs": [
    {
     "data": {
      "text/html": [
       "<div>\n",
       "<style scoped>\n",
       "    .dataframe tbody tr th:only-of-type {\n",
       "        vertical-align: middle;\n",
       "    }\n",
       "\n",
       "    .dataframe tbody tr th {\n",
       "        vertical-align: top;\n",
       "    }\n",
       "\n",
       "    .dataframe thead th {\n",
       "        text-align: right;\n",
       "    }\n",
       "</style>\n",
       "<table border=\"1\" class=\"dataframe\">\n",
       "  <thead>\n",
       "    <tr style=\"text-align: right;\">\n",
       "      <th></th>\n",
       "      <th>ID</th>\n",
       "      <th>Name</th>\n",
       "      <th>Sex</th>\n",
       "      <th>Age</th>\n",
       "      <th>Height</th>\n",
       "      <th>Weight</th>\n",
       "      <th>Team</th>\n",
       "      <th>NOC</th>\n",
       "      <th>Games</th>\n",
       "      <th>Year</th>\n",
       "      <th>Season</th>\n",
       "      <th>City</th>\n",
       "      <th>Sport</th>\n",
       "      <th>Event</th>\n",
       "      <th>Medal</th>\n",
       "    </tr>\n",
       "  </thead>\n",
       "  <tbody>\n",
       "    <tr>\n",
       "      <th>0</th>\n",
       "      <td>1</td>\n",
       "      <td>A Dijiang</td>\n",
       "      <td>M</td>\n",
       "      <td>24.0</td>\n",
       "      <td>180.0</td>\n",
       "      <td>80.0</td>\n",
       "      <td>China</td>\n",
       "      <td>CHN</td>\n",
       "      <td>1992 Summer</td>\n",
       "      <td>1992</td>\n",
       "      <td>Summer</td>\n",
       "      <td>Barcelona</td>\n",
       "      <td>Basketball</td>\n",
       "      <td>Basketball Men's Basketball</td>\n",
       "      <td>NaN</td>\n",
       "    </tr>\n",
       "    <tr>\n",
       "      <th>1</th>\n",
       "      <td>2</td>\n",
       "      <td>A Lamusi</td>\n",
       "      <td>M</td>\n",
       "      <td>23.0</td>\n",
       "      <td>170.0</td>\n",
       "      <td>60.0</td>\n",
       "      <td>China</td>\n",
       "      <td>CHN</td>\n",
       "      <td>2012 Summer</td>\n",
       "      <td>2012</td>\n",
       "      <td>Summer</td>\n",
       "      <td>London</td>\n",
       "      <td>Judo</td>\n",
       "      <td>Judo Men's Extra-Lightweight</td>\n",
       "      <td>NaN</td>\n",
       "    </tr>\n",
       "    <tr>\n",
       "      <th>2</th>\n",
       "      <td>3</td>\n",
       "      <td>Gunnar Nielsen Aaby</td>\n",
       "      <td>M</td>\n",
       "      <td>24.0</td>\n",
       "      <td>NaN</td>\n",
       "      <td>NaN</td>\n",
       "      <td>Denmark</td>\n",
       "      <td>DEN</td>\n",
       "      <td>1920 Summer</td>\n",
       "      <td>1920</td>\n",
       "      <td>Summer</td>\n",
       "      <td>Antwerpen</td>\n",
       "      <td>Football</td>\n",
       "      <td>Football Men's Football</td>\n",
       "      <td>NaN</td>\n",
       "    </tr>\n",
       "    <tr>\n",
       "      <th>3</th>\n",
       "      <td>4</td>\n",
       "      <td>Edgar Lindenau Aabye</td>\n",
       "      <td>M</td>\n",
       "      <td>34.0</td>\n",
       "      <td>NaN</td>\n",
       "      <td>NaN</td>\n",
       "      <td>Denmark/Sweden</td>\n",
       "      <td>DEN</td>\n",
       "      <td>1900 Summer</td>\n",
       "      <td>1900</td>\n",
       "      <td>Summer</td>\n",
       "      <td>Paris</td>\n",
       "      <td>Tug-Of-War</td>\n",
       "      <td>Tug-Of-War Men's Tug-Of-War</td>\n",
       "      <td>Gold</td>\n",
       "    </tr>\n",
       "    <tr>\n",
       "      <th>4</th>\n",
       "      <td>5</td>\n",
       "      <td>Christine Jacoba Aaftink</td>\n",
       "      <td>F</td>\n",
       "      <td>21.0</td>\n",
       "      <td>185.0</td>\n",
       "      <td>82.0</td>\n",
       "      <td>Netherlands</td>\n",
       "      <td>NED</td>\n",
       "      <td>1988 Winter</td>\n",
       "      <td>1988</td>\n",
       "      <td>Winter</td>\n",
       "      <td>Calgary</td>\n",
       "      <td>Speed Skating</td>\n",
       "      <td>Speed Skating Women's 500 metres</td>\n",
       "      <td>NaN</td>\n",
       "    </tr>\n",
       "    <tr>\n",
       "      <th>...</th>\n",
       "      <td>...</td>\n",
       "      <td>...</td>\n",
       "      <td>...</td>\n",
       "      <td>...</td>\n",
       "      <td>...</td>\n",
       "      <td>...</td>\n",
       "      <td>...</td>\n",
       "      <td>...</td>\n",
       "      <td>...</td>\n",
       "      <td>...</td>\n",
       "      <td>...</td>\n",
       "      <td>...</td>\n",
       "      <td>...</td>\n",
       "      <td>...</td>\n",
       "      <td>...</td>\n",
       "    </tr>\n",
       "    <tr>\n",
       "      <th>271111</th>\n",
       "      <td>135569</td>\n",
       "      <td>Andrzej ya</td>\n",
       "      <td>M</td>\n",
       "      <td>29.0</td>\n",
       "      <td>179.0</td>\n",
       "      <td>89.0</td>\n",
       "      <td>Poland-1</td>\n",
       "      <td>POL</td>\n",
       "      <td>1976 Winter</td>\n",
       "      <td>1976</td>\n",
       "      <td>Winter</td>\n",
       "      <td>Innsbruck</td>\n",
       "      <td>Luge</td>\n",
       "      <td>Luge Mixed (Men)'s Doubles</td>\n",
       "      <td>NaN</td>\n",
       "    </tr>\n",
       "    <tr>\n",
       "      <th>271112</th>\n",
       "      <td>135570</td>\n",
       "      <td>Piotr ya</td>\n",
       "      <td>M</td>\n",
       "      <td>27.0</td>\n",
       "      <td>176.0</td>\n",
       "      <td>59.0</td>\n",
       "      <td>Poland</td>\n",
       "      <td>POL</td>\n",
       "      <td>2014 Winter</td>\n",
       "      <td>2014</td>\n",
       "      <td>Winter</td>\n",
       "      <td>Sochi</td>\n",
       "      <td>Ski Jumping</td>\n",
       "      <td>Ski Jumping Men's Large Hill, Individual</td>\n",
       "      <td>NaN</td>\n",
       "    </tr>\n",
       "    <tr>\n",
       "      <th>271113</th>\n",
       "      <td>135570</td>\n",
       "      <td>Piotr ya</td>\n",
       "      <td>M</td>\n",
       "      <td>27.0</td>\n",
       "      <td>176.0</td>\n",
       "      <td>59.0</td>\n",
       "      <td>Poland</td>\n",
       "      <td>POL</td>\n",
       "      <td>2014 Winter</td>\n",
       "      <td>2014</td>\n",
       "      <td>Winter</td>\n",
       "      <td>Sochi</td>\n",
       "      <td>Ski Jumping</td>\n",
       "      <td>Ski Jumping Men's Large Hill, Team</td>\n",
       "      <td>NaN</td>\n",
       "    </tr>\n",
       "    <tr>\n",
       "      <th>271114</th>\n",
       "      <td>135571</td>\n",
       "      <td>Tomasz Ireneusz ya</td>\n",
       "      <td>M</td>\n",
       "      <td>30.0</td>\n",
       "      <td>185.0</td>\n",
       "      <td>96.0</td>\n",
       "      <td>Poland</td>\n",
       "      <td>POL</td>\n",
       "      <td>1998 Winter</td>\n",
       "      <td>1998</td>\n",
       "      <td>Winter</td>\n",
       "      <td>Nagano</td>\n",
       "      <td>Bobsleigh</td>\n",
       "      <td>Bobsleigh Men's Four</td>\n",
       "      <td>NaN</td>\n",
       "    </tr>\n",
       "    <tr>\n",
       "      <th>271115</th>\n",
       "      <td>135571</td>\n",
       "      <td>Tomasz Ireneusz ya</td>\n",
       "      <td>M</td>\n",
       "      <td>34.0</td>\n",
       "      <td>185.0</td>\n",
       "      <td>96.0</td>\n",
       "      <td>Poland</td>\n",
       "      <td>POL</td>\n",
       "      <td>2002 Winter</td>\n",
       "      <td>2002</td>\n",
       "      <td>Winter</td>\n",
       "      <td>Salt Lake City</td>\n",
       "      <td>Bobsleigh</td>\n",
       "      <td>Bobsleigh Men's Four</td>\n",
       "      <td>NaN</td>\n",
       "    </tr>\n",
       "  </tbody>\n",
       "</table>\n",
       "<p>271116 rows × 15 columns</p>\n",
       "</div>"
      ],
      "text/plain": [
       "            ID                      Name Sex   Age  Height  Weight  \\\n",
       "0            1                 A Dijiang   M  24.0   180.0    80.0   \n",
       "1            2                  A Lamusi   M  23.0   170.0    60.0   \n",
       "2            3       Gunnar Nielsen Aaby   M  24.0     NaN     NaN   \n",
       "3            4      Edgar Lindenau Aabye   M  34.0     NaN     NaN   \n",
       "4            5  Christine Jacoba Aaftink   F  21.0   185.0    82.0   \n",
       "...        ...                       ...  ..   ...     ...     ...   \n",
       "271111  135569                Andrzej ya   M  29.0   179.0    89.0   \n",
       "271112  135570                  Piotr ya   M  27.0   176.0    59.0   \n",
       "271113  135570                  Piotr ya   M  27.0   176.0    59.0   \n",
       "271114  135571        Tomasz Ireneusz ya   M  30.0   185.0    96.0   \n",
       "271115  135571        Tomasz Ireneusz ya   M  34.0   185.0    96.0   \n",
       "\n",
       "                  Team  NOC        Games  Year  Season            City  \\\n",
       "0                China  CHN  1992 Summer  1992  Summer       Barcelona   \n",
       "1                China  CHN  2012 Summer  2012  Summer          London   \n",
       "2              Denmark  DEN  1920 Summer  1920  Summer       Antwerpen   \n",
       "3       Denmark/Sweden  DEN  1900 Summer  1900  Summer           Paris   \n",
       "4          Netherlands  NED  1988 Winter  1988  Winter         Calgary   \n",
       "...                ...  ...          ...   ...     ...             ...   \n",
       "271111        Poland-1  POL  1976 Winter  1976  Winter       Innsbruck   \n",
       "271112          Poland  POL  2014 Winter  2014  Winter           Sochi   \n",
       "271113          Poland  POL  2014 Winter  2014  Winter           Sochi   \n",
       "271114          Poland  POL  1998 Winter  1998  Winter          Nagano   \n",
       "271115          Poland  POL  2002 Winter  2002  Winter  Salt Lake City   \n",
       "\n",
       "                Sport                                     Event Medal  \n",
       "0          Basketball               Basketball Men's Basketball   NaN  \n",
       "1                Judo              Judo Men's Extra-Lightweight   NaN  \n",
       "2            Football                   Football Men's Football   NaN  \n",
       "3          Tug-Of-War               Tug-Of-War Men's Tug-Of-War  Gold  \n",
       "4       Speed Skating          Speed Skating Women's 500 metres   NaN  \n",
       "...               ...                                       ...   ...  \n",
       "271111           Luge                Luge Mixed (Men)'s Doubles   NaN  \n",
       "271112    Ski Jumping  Ski Jumping Men's Large Hill, Individual   NaN  \n",
       "271113    Ski Jumping        Ski Jumping Men's Large Hill, Team   NaN  \n",
       "271114      Bobsleigh                      Bobsleigh Men's Four   NaN  \n",
       "271115      Bobsleigh                      Bobsleigh Men's Four   NaN  \n",
       "\n",
       "[271116 rows x 15 columns]"
      ]
     },
     "execution_count": 3,
     "metadata": {},
     "output_type": "execute_result"
    }
   ],
   "source": [
    "df"
   ]
  },
  {
   "cell_type": "code",
   "execution_count": 13,
   "id": "92971a4d",
   "metadata": {
    "ExecuteTime": {
     "end_time": "2021-05-04T15:37:49.524089Z",
     "start_time": "2021-05-04T15:37:49.461377Z"
    }
   },
   "outputs": [
    {
     "data": {
      "text/plain": [
       "ID        0\n",
       "Name      0\n",
       "Sex       0\n",
       "Age       0\n",
       "Height    0\n",
       "Weight    0\n",
       "Team      0\n",
       "NOC       0\n",
       "Games     0\n",
       "Year      0\n",
       "Season    0\n",
       "City      0\n",
       "Sport     0\n",
       "Event     0\n",
       "Medal     0\n",
       "dtype: int64"
      ]
     },
     "execution_count": 13,
     "metadata": {},
     "output_type": "execute_result"
    }
   ],
   "source": [
    "df.isna().sum()"
   ]
  },
  {
   "cell_type": "markdown",
   "id": "e9152955",
   "metadata": {},
   "source": [
    "Abans d'eliminar els valors ``NaN``, omplirem i discretitzarem els valors de la columna ``Medal``, ja que en aquest cas el ``NaN`` sí que és significatiu."
   ]
  },
  {
   "cell_type": "code",
   "execution_count": 4,
   "id": "01241a9b",
   "metadata": {
    "ExecuteTime": {
     "end_time": "2021-05-04T15:34:43.660149Z",
     "start_time": "2021-05-04T15:34:43.645693Z"
    }
   },
   "outputs": [],
   "source": [
    "df['Medal'].fillna(0, inplace=True)"
   ]
  },
  {
   "cell_type": "code",
   "execution_count": 5,
   "id": "2bff43e2",
   "metadata": {
    "ExecuteTime": {
     "end_time": "2021-05-04T15:34:43.738993Z",
     "start_time": "2021-05-04T15:34:43.660636Z"
    }
   },
   "outputs": [],
   "source": [
    "df['Medal'].replace({'Gold': 1, 'Silver': 2, 'Bronze': 3}, inplace=True)"
   ]
  },
  {
   "cell_type": "markdown",
   "id": "33fafc65",
   "metadata": {},
   "source": [
    "Ara ja podem desfer-nos dels ``NaN``"
   ]
  },
  {
   "cell_type": "code",
   "execution_count": 12,
   "id": "19b0902e",
   "metadata": {
    "ExecuteTime": {
     "end_time": "2021-05-04T15:37:16.203081Z",
     "start_time": "2021-05-04T15:37:16.110039Z"
    }
   },
   "outputs": [],
   "source": [
    "df.dropna(inplace=True)"
   ]
  },
  {
   "cell_type": "markdown",
   "id": "ef689180",
   "metadata": {},
   "source": [
    "Agafarem l'atribut de l'edat de les esportistes per a calcular les quantitats demanades. La majoria de les quantitats les podem trobar amb un simple ``describe()``"
   ]
  },
  {
   "cell_type": "code",
   "execution_count": 16,
   "id": "371ea3e8",
   "metadata": {
    "ExecuteTime": {
     "end_time": "2021-05-04T15:42:29.137005Z",
     "start_time": "2021-05-04T15:42:29.112052Z"
    }
   },
   "outputs": [
    {
     "data": {
      "text/plain": [
       "count   206165.00\n",
       "mean        25.06\n",
       "std          5.48\n",
       "min         11.00\n",
       "25%         21.00\n",
       "50%         24.00\n",
       "75%         28.00\n",
       "max         71.00\n",
       "Name: Age, dtype: float64"
      ]
     },
     "execution_count": 16,
     "metadata": {},
     "output_type": "execute_result"
    }
   ],
   "source": [
    "pd.set_option('float_format', '{0:.2f}'.format)\n",
    "df['Age'].describe()"
   ]
  },
  {
   "cell_type": "code",
   "execution_count": 17,
   "id": "63fe827d",
   "metadata": {
    "ExecuteTime": {
     "end_time": "2021-05-04T15:42:47.187463Z",
     "start_time": "2021-05-04T15:42:47.176937Z"
    }
   },
   "outputs": [
    {
     "data": {
      "text/plain": [
       "0   23.00\n",
       "dtype: float64"
      ]
     },
     "execution_count": 17,
     "metadata": {},
     "output_type": "execute_result"
    }
   ],
   "source": [
    "df['Age'].mode()"
   ]
  },
  {
   "cell_type": "markdown",
   "id": "d7ef6801",
   "metadata": {},
   "source": [
    "Amb això ja hem obtingut les quantitats demanades. Tot i així hem vist en les dades obtingudes que la edat màxima en el dataset son 71 anys. Serà un error? La meva curiositat m'impedeix no mirar-ho."
   ]
  },
  {
   "cell_type": "code",
   "execution_count": 23,
   "id": "7b9bef38",
   "metadata": {
    "ExecuteTime": {
     "end_time": "2021-05-04T15:52:25.444033Z",
     "start_time": "2021-05-04T15:52:25.420453Z"
    }
   },
   "outputs": [
    {
     "data": {
      "text/html": [
       "<div>\n",
       "<style scoped>\n",
       "    .dataframe tbody tr th:only-of-type {\n",
       "        vertical-align: middle;\n",
       "    }\n",
       "\n",
       "    .dataframe tbody tr th {\n",
       "        vertical-align: top;\n",
       "    }\n",
       "\n",
       "    .dataframe thead th {\n",
       "        text-align: right;\n",
       "    }\n",
       "</style>\n",
       "<table border=\"1\" class=\"dataframe\">\n",
       "  <thead>\n",
       "    <tr style=\"text-align: right;\">\n",
       "      <th></th>\n",
       "      <th>ID</th>\n",
       "      <th>Name</th>\n",
       "      <th>Sex</th>\n",
       "      <th>Age</th>\n",
       "      <th>Height</th>\n",
       "      <th>Weight</th>\n",
       "      <th>Team</th>\n",
       "      <th>NOC</th>\n",
       "      <th>Games</th>\n",
       "      <th>Year</th>\n",
       "      <th>Season</th>\n",
       "      <th>City</th>\n",
       "      <th>Sport</th>\n",
       "      <th>Event</th>\n",
       "      <th>Medal</th>\n",
       "    </tr>\n",
       "  </thead>\n",
       "  <tbody>\n",
       "    <tr>\n",
       "      <th>97374</th>\n",
       "      <td>49287</td>\n",
       "      <td>Hiroshi Hoketsu</td>\n",
       "      <td>M</td>\n",
       "      <td>71.00</td>\n",
       "      <td>168.00</td>\n",
       "      <td>62.00</td>\n",
       "      <td>Japan</td>\n",
       "      <td>JPN</td>\n",
       "      <td>2012 Summer</td>\n",
       "      <td>2012</td>\n",
       "      <td>Summer</td>\n",
       "      <td>London</td>\n",
       "      <td>Equestrianism</td>\n",
       "      <td>Equestrianism Mixed Dressage, Individual</td>\n",
       "      <td>0</td>\n",
       "    </tr>\n",
       "    <tr>\n",
       "      <th>121779</th>\n",
       "      <td>61572</td>\n",
       "      <td>Durward Randolph Knowles</td>\n",
       "      <td>M</td>\n",
       "      <td>70.00</td>\n",
       "      <td>176.00</td>\n",
       "      <td>78.00</td>\n",
       "      <td>Bahamas</td>\n",
       "      <td>BAH</td>\n",
       "      <td>1988 Summer</td>\n",
       "      <td>1988</td>\n",
       "      <td>Summer</td>\n",
       "      <td>Seoul</td>\n",
       "      <td>Sailing</td>\n",
       "      <td>Sailing Mixed Two Person Keelboat</td>\n",
       "      <td>0</td>\n",
       "    </tr>\n",
       "    <tr>\n",
       "      <th>188096</th>\n",
       "      <td>94490</td>\n",
       "      <td>Owen D. Phillips</td>\n",
       "      <td>M</td>\n",
       "      <td>70.00</td>\n",
       "      <td>175.00</td>\n",
       "      <td>76.00</td>\n",
       "      <td>Belize</td>\n",
       "      <td>BIZ</td>\n",
       "      <td>1976 Summer</td>\n",
       "      <td>1976</td>\n",
       "      <td>Summer</td>\n",
       "      <td>Montreal</td>\n",
       "      <td>Shooting</td>\n",
       "      <td>Shooting Mixed Small-Bore Rifle, Prone, 50 metres</td>\n",
       "      <td>0</td>\n",
       "    </tr>\n",
       "  </tbody>\n",
       "</table>\n",
       "</div>"
      ],
      "text/plain": [
       "           ID                      Name Sex   Age  Height  Weight     Team  \\\n",
       "97374   49287           Hiroshi Hoketsu   M 71.00  168.00   62.00    Japan   \n",
       "121779  61572  Durward Randolph Knowles   M 70.00  176.00   78.00  Bahamas   \n",
       "188096  94490          Owen D. Phillips   M 70.00  175.00   76.00   Belize   \n",
       "\n",
       "        NOC        Games  Year  Season      City          Sport  \\\n",
       "97374   JPN  2012 Summer  2012  Summer    London  Equestrianism   \n",
       "121779  BAH  1988 Summer  1988  Summer     Seoul        Sailing   \n",
       "188096  BIZ  1976 Summer  1976  Summer  Montreal       Shooting   \n",
       "\n",
       "                                                    Event  Medal  \n",
       "97374            Equestrianism Mixed Dressage, Individual      0  \n",
       "121779                  Sailing Mixed Two Person Keelboat      0  \n",
       "188096  Shooting Mixed Small-Bore Rifle, Prone, 50 metres      0  "
      ]
     },
     "execution_count": 23,
     "metadata": {},
     "output_type": "execute_result"
    }
   ],
   "source": [
    "df.loc[df['Age'] >= 70.00]"
   ]
  },
  {
   "cell_type": "code",
   "execution_count": 25,
   "id": "1eab6031",
   "metadata": {
    "ExecuteTime": {
     "end_time": "2021-05-04T15:52:57.327374Z",
     "start_time": "2021-05-04T15:52:57.309421Z"
    }
   },
   "outputs": [
    {
     "data": {
      "text/html": [
       "<div>\n",
       "<style scoped>\n",
       "    .dataframe tbody tr th:only-of-type {\n",
       "        vertical-align: middle;\n",
       "    }\n",
       "\n",
       "    .dataframe tbody tr th {\n",
       "        vertical-align: top;\n",
       "    }\n",
       "\n",
       "    .dataframe thead th {\n",
       "        text-align: right;\n",
       "    }\n",
       "</style>\n",
       "<table border=\"1\" class=\"dataframe\">\n",
       "  <thead>\n",
       "    <tr style=\"text-align: right;\">\n",
       "      <th></th>\n",
       "      <th>ID</th>\n",
       "      <th>Name</th>\n",
       "      <th>Sex</th>\n",
       "      <th>Age</th>\n",
       "      <th>Height</th>\n",
       "      <th>Weight</th>\n",
       "      <th>Team</th>\n",
       "      <th>NOC</th>\n",
       "      <th>Games</th>\n",
       "      <th>Year</th>\n",
       "      <th>Season</th>\n",
       "      <th>City</th>\n",
       "      <th>Sport</th>\n",
       "      <th>Event</th>\n",
       "      <th>Medal</th>\n",
       "    </tr>\n",
       "  </thead>\n",
       "  <tbody>\n",
       "    <tr>\n",
       "      <th>97374</th>\n",
       "      <td>49287</td>\n",
       "      <td>Hiroshi Hoketsu</td>\n",
       "      <td>M</td>\n",
       "      <td>71.00</td>\n",
       "      <td>168.00</td>\n",
       "      <td>62.00</td>\n",
       "      <td>Japan</td>\n",
       "      <td>JPN</td>\n",
       "      <td>2012 Summer</td>\n",
       "      <td>2012</td>\n",
       "      <td>Summer</td>\n",
       "      <td>London</td>\n",
       "      <td>Equestrianism</td>\n",
       "      <td>Equestrianism Mixed Dressage, Individual</td>\n",
       "      <td>0</td>\n",
       "    </tr>\n",
       "    <tr>\n",
       "      <th>109841</th>\n",
       "      <td>55539</td>\n",
       "      <td>Hilda Lorna Johnstone (Wailes-Fairbairn-)</td>\n",
       "      <td>F</td>\n",
       "      <td>69.00</td>\n",
       "      <td>162.00</td>\n",
       "      <td>66.00</td>\n",
       "      <td>Great Britain</td>\n",
       "      <td>GBR</td>\n",
       "      <td>1972 Summer</td>\n",
       "      <td>1972</td>\n",
       "      <td>Summer</td>\n",
       "      <td>Munich</td>\n",
       "      <td>Equestrianism</td>\n",
       "      <td>Equestrianism Mixed Dressage, Individual</td>\n",
       "      <td>0</td>\n",
       "    </tr>\n",
       "    <tr>\n",
       "      <th>109842</th>\n",
       "      <td>55539</td>\n",
       "      <td>Hilda Lorna Johnstone (Wailes-Fairbairn-)</td>\n",
       "      <td>F</td>\n",
       "      <td>69.00</td>\n",
       "      <td>162.00</td>\n",
       "      <td>66.00</td>\n",
       "      <td>Great Britain</td>\n",
       "      <td>GBR</td>\n",
       "      <td>1972 Summer</td>\n",
       "      <td>1972</td>\n",
       "      <td>Summer</td>\n",
       "      <td>Munich</td>\n",
       "      <td>Equestrianism</td>\n",
       "      <td>Equestrianism Mixed Dressage, Team</td>\n",
       "      <td>0</td>\n",
       "    </tr>\n",
       "    <tr>\n",
       "      <th>121779</th>\n",
       "      <td>61572</td>\n",
       "      <td>Durward Randolph Knowles</td>\n",
       "      <td>M</td>\n",
       "      <td>70.00</td>\n",
       "      <td>176.00</td>\n",
       "      <td>78.00</td>\n",
       "      <td>Bahamas</td>\n",
       "      <td>BAH</td>\n",
       "      <td>1988 Summer</td>\n",
       "      <td>1988</td>\n",
       "      <td>Summer</td>\n",
       "      <td>Seoul</td>\n",
       "      <td>Sailing</td>\n",
       "      <td>Sailing Mixed Two Person Keelboat</td>\n",
       "      <td>0</td>\n",
       "    </tr>\n",
       "    <tr>\n",
       "      <th>188096</th>\n",
       "      <td>94490</td>\n",
       "      <td>Owen D. Phillips</td>\n",
       "      <td>M</td>\n",
       "      <td>70.00</td>\n",
       "      <td>175.00</td>\n",
       "      <td>76.00</td>\n",
       "      <td>Belize</td>\n",
       "      <td>BIZ</td>\n",
       "      <td>1976 Summer</td>\n",
       "      <td>1976</td>\n",
       "      <td>Summer</td>\n",
       "      <td>Montreal</td>\n",
       "      <td>Shooting</td>\n",
       "      <td>Shooting Mixed Small-Bore Rifle, Prone, 50 metres</td>\n",
       "      <td>0</td>\n",
       "    </tr>\n",
       "    <tr>\n",
       "      <th>225775</th>\n",
       "      <td>113447</td>\n",
       "      <td>Roberto Soundy</td>\n",
       "      <td>M</td>\n",
       "      <td>68.00</td>\n",
       "      <td>178.00</td>\n",
       "      <td>80.00</td>\n",
       "      <td>El Salvador</td>\n",
       "      <td>ESA</td>\n",
       "      <td>1968 Summer</td>\n",
       "      <td>1968</td>\n",
       "      <td>Summer</td>\n",
       "      <td>Mexico City</td>\n",
       "      <td>Shooting</td>\n",
       "      <td>Shooting Mixed Trap</td>\n",
       "      <td>0</td>\n",
       "    </tr>\n",
       "  </tbody>\n",
       "</table>\n",
       "</div>"
      ],
      "text/plain": [
       "            ID                                       Name Sex   Age  Height  \\\n",
       "97374    49287                            Hiroshi Hoketsu   M 71.00  168.00   \n",
       "109841   55539  Hilda Lorna Johnstone (Wailes-Fairbairn-)   F 69.00  162.00   \n",
       "109842   55539  Hilda Lorna Johnstone (Wailes-Fairbairn-)   F 69.00  162.00   \n",
       "121779   61572                   Durward Randolph Knowles   M 70.00  176.00   \n",
       "188096   94490                           Owen D. Phillips   M 70.00  175.00   \n",
       "225775  113447                             Roberto Soundy   M 68.00  178.00   \n",
       "\n",
       "        Weight           Team  NOC        Games  Year  Season         City  \\\n",
       "97374    62.00          Japan  JPN  2012 Summer  2012  Summer       London   \n",
       "109841   66.00  Great Britain  GBR  1972 Summer  1972  Summer       Munich   \n",
       "109842   66.00  Great Britain  GBR  1972 Summer  1972  Summer       Munich   \n",
       "121779   78.00        Bahamas  BAH  1988 Summer  1988  Summer        Seoul   \n",
       "188096   76.00         Belize  BIZ  1976 Summer  1976  Summer     Montreal   \n",
       "225775   80.00    El Salvador  ESA  1968 Summer  1968  Summer  Mexico City   \n",
       "\n",
       "                Sport                                              Event  \\\n",
       "97374   Equestrianism           Equestrianism Mixed Dressage, Individual   \n",
       "109841  Equestrianism           Equestrianism Mixed Dressage, Individual   \n",
       "109842  Equestrianism                 Equestrianism Mixed Dressage, Team   \n",
       "121779        Sailing                  Sailing Mixed Two Person Keelboat   \n",
       "188096       Shooting  Shooting Mixed Small-Bore Rifle, Prone, 50 metres   \n",
       "225775       Shooting                                Shooting Mixed Trap   \n",
       "\n",
       "        Medal  \n",
       "97374       0  \n",
       "109841      0  \n",
       "109842      0  \n",
       "121779      0  \n",
       "188096      0  \n",
       "225775      0  "
      ]
     },
     "execution_count": 25,
     "metadata": {},
     "output_type": "execute_result"
    }
   ],
   "source": [
    "df.loc[df['Age'] > 67.00]"
   ]
  },
  {
   "cell_type": "markdown",
   "id": "cfd089bf",
   "metadata": {},
   "source": [
    "Sembla ser que no és un error, i que hi han atletes competint amb més de 67 anys! Admirable.\n",
    "\n",
    "# Exercici 2\n",
    "\n",
    "## Continuant amb les dades de tema esportiu, selecciona dos atributs i calcula'n la seva correlació. \n",
    "\n",
    "Mirarem si hi ha alguna relació entre l'alçada i el pes, esperant una forta correlació positiva."
   ]
  },
  {
   "cell_type": "code",
   "execution_count": 29,
   "id": "c534172f",
   "metadata": {
    "ExecuteTime": {
     "end_time": "2021-05-04T16:03:58.637796Z",
     "start_time": "2021-05-04T16:03:58.619844Z"
    }
   },
   "outputs": [
    {
     "data": {
      "text/plain": [
       "0.7965725794977142"
      ]
     },
     "execution_count": 29,
     "metadata": {},
     "output_type": "execute_result"
    }
   ],
   "source": [
    "df['Height'].corr(df['Weight'])"
   ]
  },
  {
   "cell_type": "markdown",
   "id": "09379eea",
   "metadata": {},
   "source": [
    "# Exercici 3\n",
    "\n",
    "## Continuant amb les dades de tema esportiu, calcula la correlació de tots els atributs entre sí i representa'ls en una matriu amb diferents colors d'intensitat."
   ]
  },
  {
   "cell_type": "code",
   "execution_count": 35,
   "id": "e55960b9",
   "metadata": {
    "ExecuteTime": {
     "end_time": "2021-05-04T16:07:02.934783Z",
     "start_time": "2021-05-04T16:07:02.798073Z"
    }
   },
   "outputs": [
    {
     "data": {
      "text/plain": [
       "<AxesSubplot:>"
      ]
     },
     "execution_count": 35,
     "metadata": {},
     "output_type": "execute_result"
    },
    {
     "data": {
      "image/png": "[encoded data removed]",
      "text/plain": [
       "<Figure size 432x288 with 2 Axes>"
      ]
     },
     "metadata": {
      "needs_background": "light"
     },
     "output_type": "display_data"
    }
   ],
   "source": [
    "sns.heatmap(df[['Age', 'Height', 'Weight', 'Year', 'Medal']].corr())"
   ]
  },
  {
   "cell_type": "markdown",
   "id": "c61d0b83",
   "metadata": {},
   "source": [
    "Com era d'esperar, els únics atributs amb una forta correlació positiva són el pes amb l'alçada."
   ]
  },
  {
   "cell_type": "markdown",
   "id": "57edd3f2",
   "metadata": {},
   "source": [
    "# Exercici 4\n",
    "\n",
    "## Continuant amb les dades de tema esportiu, selecciona un atribut i calcula la mitjana geomètrica i la mitjana harmònica.\n",
    "\n",
    "Un cop més, agafarem l'edat per calcular aquestes mitjanes."
   ]
  },
  {
   "cell_type": "code",
   "execution_count": 39,
   "id": "d64ee7b1",
   "metadata": {
    "ExecuteTime": {
     "end_time": "2021-05-04T16:26:47.540269Z",
     "start_time": "2021-05-04T16:26:47.511327Z"
    }
   },
   "outputs": [
    {
     "data": {
      "text/plain": [
       "25.055508937016466"
      ]
     },
     "execution_count": 39,
     "metadata": {},
     "output_type": "execute_result"
    }
   ],
   "source": [
    "np.mean(df['Age'])"
   ]
  },
  {
   "cell_type": "code",
   "execution_count": 37,
   "id": "e8b92406",
   "metadata": {
    "ExecuteTime": {
     "end_time": "2021-05-04T16:25:56.699542Z",
     "start_time": "2021-05-04T16:25:56.678766Z"
    }
   },
   "outputs": [
    {
     "data": {
      "text/plain": [
       "24.502131365732552"
      ]
     },
     "execution_count": 37,
     "metadata": {},
     "output_type": "execute_result"
    }
   ],
   "source": [
    "stats.gmean(df['Age'])"
   ]
  },
  {
   "cell_type": "code",
   "execution_count": 38,
   "id": "c7da4a3b",
   "metadata": {
    "ExecuteTime": {
     "end_time": "2021-05-04T16:26:11.492797Z",
     "start_time": "2021-05-04T16:26:11.486796Z"
    }
   },
   "outputs": [
    {
     "data": {
      "text/plain": [
       "23.978816810755987"
      ]
     },
     "execution_count": 38,
     "metadata": {},
     "output_type": "execute_result"
    }
   ],
   "source": [
    "stats.hmean(df['Age'])"
   ]
  }
 ],
 "metadata": {
  "kernelspec": {
   "display_name": "Python 3",
   "language": "python",
   "name": "python3"
  },
  "language_info": {
   "codemirror_mode": {
    "name": "ipython",
    "version": 3
   },
   "file_extension": ".py",
   "mimetype": "text/x-python",
   "name": "python",
   "nbconvert_exporter": "python",
   "pygments_lexer": "ipython3",
   "version": "3.9.4"
  }
 },
 "nbformat": 4,
 "nbformat_minor": 5
}
